{
  "nbformat": 4,
  "nbformat_minor": 0,
  "metadata": {
    "colab": {
      "provenance": []
    },
    "kernelspec": {
      "name": "python3",
      "display_name": "Python 3"
    },
    "language_info": {
      "name": "python"
    }
  },
  "cells": [
    {
      "cell_type": "code",
      "execution_count": 1,
      "metadata": {
        "colab": {
          "base_uri": "https://localhost:8080/"
        },
        "id": "b0JEAwGxFwcU",
        "outputId": "0a75bd88-4f73-4793-b502-b9471d56b98f"
      },
      "outputs": [
        {
          "output_type": "stream",
          "name": "stdout",
          "text": [
            "Requirement already satisfied: transformers in /usr/local/lib/python3.10/dist-packages (4.35.2)\n",
            "Requirement already satisfied: torch in /usr/local/lib/python3.10/dist-packages (2.1.0+cu118)\n",
            "Requirement already satisfied: filelock in /usr/local/lib/python3.10/dist-packages (from transformers) (3.13.1)\n",
            "Requirement already satisfied: huggingface-hub<1.0,>=0.16.4 in /usr/local/lib/python3.10/dist-packages (from transformers) (0.19.4)\n",
            "Requirement already satisfied: numpy>=1.17 in /usr/local/lib/python3.10/dist-packages (from transformers) (1.23.5)\n",
            "Requirement already satisfied: packaging>=20.0 in /usr/local/lib/python3.10/dist-packages (from transformers) (23.2)\n",
            "Requirement already satisfied: pyyaml>=5.1 in /usr/local/lib/python3.10/dist-packages (from transformers) (6.0.1)\n",
            "Requirement already satisfied: regex!=2019.12.17 in /usr/local/lib/python3.10/dist-packages (from transformers) (2023.6.3)\n",
            "Requirement already satisfied: requests in /usr/local/lib/python3.10/dist-packages (from transformers) (2.31.0)\n",
            "Requirement already satisfied: tokenizers<0.19,>=0.14 in /usr/local/lib/python3.10/dist-packages (from transformers) (0.15.0)\n",
            "Requirement already satisfied: safetensors>=0.3.1 in /usr/local/lib/python3.10/dist-packages (from transformers) (0.4.1)\n",
            "Requirement already satisfied: tqdm>=4.27 in /usr/local/lib/python3.10/dist-packages (from transformers) (4.66.1)\n",
            "Requirement already satisfied: typing-extensions in /usr/local/lib/python3.10/dist-packages (from torch) (4.5.0)\n",
            "Requirement already satisfied: sympy in /usr/local/lib/python3.10/dist-packages (from torch) (1.12)\n",
            "Requirement already satisfied: networkx in /usr/local/lib/python3.10/dist-packages (from torch) (3.2.1)\n",
            "Requirement already satisfied: jinja2 in /usr/local/lib/python3.10/dist-packages (from torch) (3.1.2)\n",
            "Requirement already satisfied: fsspec in /usr/local/lib/python3.10/dist-packages (from torch) (2023.6.0)\n",
            "Requirement already satisfied: triton==2.1.0 in /usr/local/lib/python3.10/dist-packages (from torch) (2.1.0)\n",
            "Requirement already satisfied: MarkupSafe>=2.0 in /usr/local/lib/python3.10/dist-packages (from jinja2->torch) (2.1.3)\n",
            "Requirement already satisfied: charset-normalizer<4,>=2 in /usr/local/lib/python3.10/dist-packages (from requests->transformers) (3.3.2)\n",
            "Requirement already satisfied: idna<4,>=2.5 in /usr/local/lib/python3.10/dist-packages (from requests->transformers) (3.6)\n",
            "Requirement already satisfied: urllib3<3,>=1.21.1 in /usr/local/lib/python3.10/dist-packages (from requests->transformers) (2.0.7)\n",
            "Requirement already satisfied: certifi>=2017.4.17 in /usr/local/lib/python3.10/dist-packages (from requests->transformers) (2023.11.17)\n",
            "Requirement already satisfied: mpmath>=0.19 in /usr/local/lib/python3.10/dist-packages (from sympy->torch) (1.3.0)\n"
          ]
        }
      ],
      "source": [
        "!pip install transformers torch\n",
        "\n"
      ]
    },
    {
      "cell_type": "code",
      "source": [
        "from transformers import RobertaTokenizer, RobertaForSequenceClassification\n",
        "import torch\n",
        "\n",
        "# Load the tokenizer and model (fine-tuned for sentiment analysis)\n",
        "tokenizer = RobertaTokenizer.from_pretrained('cardiffnlp/twitter-roberta-base-sentiment')\n",
        "model = RobertaForSequenceClassification.from_pretrained('cardiffnlp/twitter-roberta-base-sentiment')\n",
        "\n",
        "# Function to get sentiment\n",
        "max_length= 512\n",
        "\n",
        "def get_sentiment(sentences):\n",
        "    inputs = tokenizer(sentences, max_length=max_length, padding=True, truncation=True, return_tensors=\"pt\")\n",
        "    with torch.no_grad():\n",
        "        outputs = model(**inputs)\n",
        "    logits = outputs.logits\n",
        "    predictions = torch.nn.functional.softmax(logits, dim=-1)\n",
        "    return predictions.tolist()\n",
        "\n",
        "# Read positive sentences from a file\n",
        "positive_sentences = []\n",
        "with open('Postivie_reviews_data.txt', 'r') as file:\n",
        "    positive_sentences = file.read()\n",
        "\n",
        "# Example negative sentences\n",
        "negative_sentences = []\n",
        "with open('Negative_review_data.txt', 'r') as file:\n",
        "    negative_sentences = file.read()\n",
        "\n",
        "neutral_sentences = []\n",
        "with open('Neutral_study_data.txt', 'r') as file:\n",
        "    neutral_sentences = file.read()\n",
        "\n",
        "tricky_sentences = []\n",
        "with open('tricky_review_test.txt', 'r') as file:\n",
        "    tricky_sentences = file.read()\n",
        "\n",
        "\n",
        "# Analyze sentiment\n",
        "positive_sentiment = get_sentiment(positive_sentences)\n",
        "negative_sentiment = get_sentiment(negative_sentences)\n",
        "neutral_sentences = get_sentiment(neutral_sentences)\n",
        "tricky_sentences = get_sentiment(tricky_sentences)\n",
        "\n",
        "print(\"Positive Sentiments:\", positive_sentiment)\n",
        "print(\"Negative Sentiments:\", negative_sentiment)\n",
        "print(\"Neutral Sentiments:\", neutral_sentences)\n",
        "print(\"Tricky Sentiments:\", tricky_sentences)"
      ],
      "metadata": {
        "colab": {
          "base_uri": "https://localhost:8080/"
        },
        "id": "8hleWQGQG6pw",
        "outputId": "73a6ab8f-f6f4-4760-e03d-7bf35e782690"
      },
      "execution_count": 3,
      "outputs": [
        {
          "output_type": "stream",
          "name": "stdout",
          "text": [
            "Positive Sentiments: [[0.002760493429377675, 0.026426563039422035, 0.9708129167556763]]\n",
            "Negative Sentiments: [[0.8989202976226807, 0.08838112652301788, 0.012698599137365818]]\n",
            "Neutral Sentiments: [[0.08287899941205978, 0.7881227731704712, 0.12899823486804962]]\n",
            "Tricky Sentiments: [[0.022000707685947418, 0.07985534518957138, 0.8981439471244812]]\n"
          ]
        }
      ]
    },
    {
      "cell_type": "code",
      "source": [],
      "metadata": {
        "id": "SwYBeQ45UTyy"
      },
      "execution_count": null,
      "outputs": []
    },
    {
      "cell_type": "code",
      "source": [],
      "metadata": {
        "id": "Xp-0y3wXUUGm"
      },
      "execution_count": null,
      "outputs": []
    },
    {
      "cell_type": "code",
      "source": [
        "\n",
        "\n"
      ],
      "metadata": {
        "id": "r5Uh86bvUYpL"
      },
      "execution_count": null,
      "outputs": []
    }
  ]
}