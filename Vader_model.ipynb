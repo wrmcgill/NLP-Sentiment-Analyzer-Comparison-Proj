{
  "nbformat": 4,
  "nbformat_minor": 0,
  "metadata": {
    "colab": {
      "provenance": []
    },
    "kernelspec": {
      "name": "python3",
      "display_name": "Python 3"
    },
    "language_info": {
      "name": "python"
    }
  },
  "cells": [
    {
      "cell_type": "markdown",
      "source": [
        "set up"
      ],
      "metadata": {
        "id": "GsYGCgLA-WwE"
      }
    },
    {
      "cell_type": "code",
      "execution_count": null,
      "metadata": {
        "id": "-HcQy0ei8xn7"
      },
      "outputs": [],
      "source": []
    },
    {
      "cell_type": "code",
      "source": [],
      "metadata": {
        "id": "M8CPpIvd-V9-"
      },
      "execution_count": null,
      "outputs": []
    },
    {
      "cell_type": "code",
      "source": [
        "!pip install vaderSentiment\n",
        "from vaderSentiment.vaderSentiment import SentimentIntensityAnalyzer\n",
        "\n",
        "\n",
        "obj = SentimentIntensityAnalyzer()\n",
        "\n",
        "sentence = \"Ram is really good\"\n",
        "sentiment_dict = obj.polarity_scores(sentence)\n",
        "print(sentiment_dict)\n",
        "\n",
        "sentence = \"I recently purchased a Hydro Flask water bottle, hoping for the durability and quality that they are known for. Unfortunately, my experience has been far from satisfactory. After only a few days of use, the bottle is completely damaged.\"\n",
        "sentiment_dict = obj.polarity_scores(sentence)\n",
        "print(sentiment_dict)"
      ],
      "metadata": {
        "colab": {
          "base_uri": "https://localhost:8080/"
        },
        "id": "QrZpf4dn-_xS",
        "outputId": "d82782b4-04e7-4ead-f166-368f58699cdc"
      },
      "execution_count": null,
      "outputs": [
        {
          "output_type": "stream",
          "name": "stdout",
          "text": [
            "Requirement already satisfied: vaderSentiment in /usr/local/lib/python3.10/dist-packages (3.3.2)\n",
            "Requirement already satisfied: requests in /usr/local/lib/python3.10/dist-packages (from vaderSentiment) (2.31.0)\n",
            "Requirement already satisfied: charset-normalizer<4,>=2 in /usr/local/lib/python3.10/dist-packages (from requests->vaderSentiment) (3.3.2)\n",
            "Requirement already satisfied: idna<4,>=2.5 in /usr/local/lib/python3.10/dist-packages (from requests->vaderSentiment) (3.6)\n",
            "Requirement already satisfied: urllib3<3,>=1.21.1 in /usr/local/lib/python3.10/dist-packages (from requests->vaderSentiment) (2.0.7)\n",
            "Requirement already satisfied: certifi>=2017.4.17 in /usr/local/lib/python3.10/dist-packages (from requests->vaderSentiment) (2023.11.17)\n",
            "{'neg': 0.0, 'neu': 0.484, 'pos': 0.516, 'compound': 0.4927}\n",
            "{'neg': 0.122, 'neu': 0.763, 'pos': 0.115, 'compound': -0.0754}\n"
          ]
        }
      ]
    },
    {
      "cell_type": "code",
      "source": [
        "\n",
        "from vaderSentiment.vaderSentiment import SentimentIntensityAnalyzer\n",
        "import nltk\n",
        "\n",
        "# Initialize the VADER sentiment intensity analyzer\n",
        "analyzer = SentimentIntensityAnalyzer()\n",
        "\n",
        "# Function to analyze sentiment of a sentence\n",
        "def analyze_sentiment(sentence):\n",
        "    sentiment_dict = analyzer.polarity_scores(sentence)\n",
        "    print(f\"{sentence} - {sentiment_dict}\")\n",
        "\n",
        "# Read the text file and analyze each sentence\n",
        "with open('Negative_review_data.txt', 'r') as file:\n",
        "        print(\"The negative reviews set gives: \")\n",
        "        analyze_sentiment(file)  # Stripping to remove leading/trailing whitespace\n",
        "print()\n",
        "with open('Neutral_study_data.txt', 'r') as file:\n",
        "        print(\"The neutral reviews set gives: \")\n",
        "        analyze_sentiment(file)\n",
        "print()\n",
        "with open('Postivie_reviews_data.txt', 'r') as file:\n",
        "        print(\"The positive reviews set gives: \")\n",
        "        analyze_sentiment(file)"
      ],
      "metadata": {
        "colab": {
          "base_uri": "https://localhost:8080/"
        },
        "id": "raBFiEau_PVB",
        "outputId": "b7733db9-642c-49ac-92b8-30b8af8b4339"
      },
      "execution_count": null,
      "outputs": [
        {
          "output_type": "stream",
          "name": "stdout",
          "text": [
            "The negative reviews set gives: \n",
            "<_io.TextIOWrapper name='Negative_review_data.txt' mode='r' encoding='UTF-8'> - {'neg': 0.102, 'neu': 0.814, 'pos': 0.084, 'compound': -0.9953}\n",
            "\n",
            "The neutral reviews set gives: \n",
            "<_io.TextIOWrapper name='Neutral_study_data.txt' mode='r' encoding='UTF-8'> - {'neg': 0.031, 'neu': 0.917, 'pos': 0.053, 'compound': 0.9991}\n",
            "\n",
            "The positive reviews set gives: \n",
            "<_io.TextIOWrapper name='Postivie_reviews_data.txt' mode='r' encoding='UTF-8'> - {'neg': 0.026, 'neu': 0.713, 'pos': 0.261, 'compound': 1.0}\n"
          ]
        }
      ]
    },
    {
      "cell_type": "markdown",
      "source": [
        "# New Section"
      ],
      "metadata": {
        "id": "p_Mwpk74_j9c"
      }
    },
    {
      "cell_type": "code",
      "source": [],
      "metadata": {
        "id": "aGtYpG8rAprn"
      },
      "execution_count": null,
      "outputs": []
    },
    {
      "cell_type": "code",
      "source": [],
      "metadata": {
        "id": "Q9TwpbtYAp4q"
      },
      "execution_count": null,
      "outputs": []
    }
  ]
}